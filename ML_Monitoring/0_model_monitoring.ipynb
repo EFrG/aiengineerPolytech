{
 "cells": [
  {
   "cell_type": "markdown",
   "metadata": {},
   "source": [
    "# Model Monitoring\n"
   ]
  },
  {
   "attachments": {},
   "cell_type": "markdown",
   "metadata": {},
   "source": [
    "Beforehand, We need to create an inference service to look at. here is complete code to to it, inpired from datapipeline2"
   ]
  },
  {
   "cell_type": "code",
   "execution_count": 1,
   "metadata": {
    "collapsed": true,
    "jupyter": {
     "outputs_hidden": true
    },
    "tags": []
   },
   "outputs": [
    {
     "name": "stdout",
     "output_type": "stream",
     "text": [
      "Requirement already satisfied: kserve in /opt/conda/lib/python3.8/site-packages (0.10.0)\n",
      "Requirement already satisfied: cloudevents>=1.6.2 in /opt/conda/lib/python3.8/site-packages (from kserve) (1.9.0)\n",
      "Requirement already satisfied: boto3~=1.21 in /opt/conda/lib/python3.8/site-packages (from kserve) (1.26.54)\n",
      "Requirement already satisfied: fastapi<=0.88.0,>=0.85.0 in /opt/conda/lib/python3.8/site-packages (from kserve) (0.88.0)\n",
      "Collecting argparse>=1.4.0\n",
      "  Using cached argparse-1.4.0-py2.py3-none-any.whl (23 kB)\n",
      "Requirement already satisfied: timing-asgi>=0.3.0 in /opt/conda/lib/python3.8/site-packages (from kserve) (0.3.0)\n",
      "Requirement already satisfied: psutil>=5.9.0 in /opt/conda/lib/python3.8/site-packages (from kserve) (5.9.4)\n",
      "Requirement already satisfied: google-cloud-storage>=1.20.0 in /opt/conda/lib/python3.8/site-packages (from kserve) (1.44.0)\n",
      "Requirement already satisfied: uvicorn>=0.16.0 in /opt/conda/lib/python3.8/site-packages (from kserve) (0.16.0)\n",
      "Requirement already satisfied: six>=1.16.0 in /opt/conda/lib/python3.8/site-packages (from kserve) (1.16.0)\n",
      "Requirement already satisfied: kubernetes>=18.20.0 in /opt/conda/lib/python3.8/site-packages (from kserve) (25.3.0)\n",
      "Requirement already satisfied: tritonclient==2.18.0 in /opt/conda/lib/python3.8/site-packages (from kserve) (2.18.0)\n",
      "Requirement already satisfied: setuptools>=59.5.0 in /opt/conda/lib/python3.8/site-packages (from kserve) (66.1.1)\n",
      "Requirement already satisfied: protobuf~=3.19.0 in /opt/conda/lib/python3.8/site-packages (from kserve) (3.19.6)\n",
      "Requirement already satisfied: table-logger>=0.3.6 in /opt/conda/lib/python3.8/site-packages (from kserve) (0.3.6)\n",
      "Requirement already satisfied: adal>=1.2.7 in /opt/conda/lib/python3.8/site-packages (from kserve) (1.2.7)\n",
      "Requirement already satisfied: orjson>=3.8.0 in /opt/conda/lib/python3.8/site-packages (from kserve) (3.8.5)\n",
      "Requirement already satisfied: azure-storage-file-share==12.7.0 in /opt/conda/lib/python3.8/site-packages (from kserve) (12.7.0)\n",
      "Requirement already satisfied: httpx>=0.23.0 in /opt/conda/lib/python3.8/site-packages (from kserve) (0.23.3)\n",
      "Requirement already satisfied: avro>=1.11.0 in /opt/conda/lib/python3.8/site-packages (from kserve) (1.11.0)\n",
      "Requirement already satisfied: grpcio>=1.34.0 in /opt/conda/lib/python3.8/site-packages (from kserve) (1.34.1)\n",
      "Requirement already satisfied: azure-identity>=1.8.0 in /opt/conda/lib/python3.8/site-packages (from kserve) (1.12.0)\n",
      "Requirement already satisfied: python-dateutil>=2.8.0 in /opt/conda/lib/python3.8/site-packages (from kserve) (2.8.1)\n",
      "Requirement already satisfied: minio<=7.1.3,>=4.0.9 in /opt/conda/lib/python3.8/site-packages (from kserve) (6.0.2)\n",
      "Requirement already satisfied: ray[serve]==2.0.0 in /opt/conda/lib/python3.8/site-packages (from kserve) (2.0.0)\n",
      "Requirement already satisfied: azure-storage-blob==12.9.0 in /opt/conda/lib/python3.8/site-packages (from kserve) (12.9.0)\n",
      "Requirement already satisfied: urllib3>=1.26.8 in /opt/conda/lib/python3.8/site-packages (from kserve) (1.26.14)\n",
      "Requirement already satisfied: prometheus-client>=0.13.1 in /opt/conda/lib/python3.8/site-packages (from kserve) (0.13.1)\n",
      "Requirement already satisfied: numpy<1.24.0,>=1.21.5 in /opt/conda/lib/python3.8/site-packages (from kserve) (1.22.3)\n",
      "Requirement already satisfied: azure-core<2.0.0,>=1.10.0 in /opt/conda/lib/python3.8/site-packages (from azure-storage-blob==12.9.0->kserve) (1.26.2)\n",
      "Requirement already satisfied: msrest>=0.6.21 in /opt/conda/lib/python3.8/site-packages (from azure-storage-blob==12.9.0->kserve) (0.7.1)\n",
      "Requirement already satisfied: cryptography>=2.1.4 in /opt/conda/lib/python3.8/site-packages (from azure-storage-blob==12.9.0->kserve) (3.4.7)\n",
      "Requirement already satisfied: click<=8.0.4,>=7.0 in /opt/conda/lib/python3.8/site-packages (from ray[serve]==2.0.0->kserve) (7.1.2)\n",
      "Requirement already satisfied: frozenlist in /opt/conda/lib/python3.8/site-packages (from ray[serve]==2.0.0->kserve) (1.3.3)\n",
      "Requirement already satisfied: pyyaml in /opt/conda/lib/python3.8/site-packages (from ray[serve]==2.0.0->kserve) (5.4.1)\n",
      "Requirement already satisfied: requests in /opt/conda/lib/python3.8/site-packages (from ray[serve]==2.0.0->kserve) (2.25.1)\n",
      "Requirement already satisfied: virtualenv in /opt/conda/lib/python3.8/site-packages (from ray[serve]==2.0.0->kserve) (20.17.1)\n",
      "Requirement already satisfied: filelock in /opt/conda/lib/python3.8/site-packages (from ray[serve]==2.0.0->kserve) (3.9.0)\n",
      "Requirement already satisfied: msgpack<2.0.0,>=1.0.0 in /opt/conda/lib/python3.8/site-packages (from ray[serve]==2.0.0->kserve) (1.0.4)\n",
      "Requirement already satisfied: aiosignal in /opt/conda/lib/python3.8/site-packages (from ray[serve]==2.0.0->kserve) (1.3.1)\n",
      "Requirement already satisfied: jsonschema in /opt/conda/lib/python3.8/site-packages (from ray[serve]==2.0.0->kserve) (3.2.0)\n",
      "Requirement already satisfied: attrs in /opt/conda/lib/python3.8/site-packages (from ray[serve]==2.0.0->kserve) (21.2.0)\n",
      "Requirement already satisfied: aiorwlock in /opt/conda/lib/python3.8/site-packages (from ray[serve]==2.0.0->kserve) (1.3.0)\n",
      "Requirement already satisfied: gpustat>=1.0.0b1 in /opt/conda/lib/python3.8/site-packages (from ray[serve]==2.0.0->kserve) (1.0.0)\n",
      "Requirement already satisfied: colorful in /opt/conda/lib/python3.8/site-packages (from ray[serve]==2.0.0->kserve) (0.5.5)\n",
      "Requirement already satisfied: aiohttp-cors in /opt/conda/lib/python3.8/site-packages (from ray[serve]==2.0.0->kserve) (0.7.0)\n",
      "Requirement already satisfied: smart-open in /opt/conda/lib/python3.8/site-packages (from ray[serve]==2.0.0->kserve) (6.3.0)\n",
      "Requirement already satisfied: pydantic in /opt/conda/lib/python3.8/site-packages (from ray[serve]==2.0.0->kserve) (1.10.4)\n",
      "Requirement already satisfied: opencensus in /opt/conda/lib/python3.8/site-packages (from ray[serve]==2.0.0->kserve) (0.11.1)\n",
      "Requirement already satisfied: py-spy>=0.2.0 in /opt/conda/lib/python3.8/site-packages (from ray[serve]==2.0.0->kserve) (0.3.14)\n",
      "Requirement already satisfied: starlette in /opt/conda/lib/python3.8/site-packages (from ray[serve]==2.0.0->kserve) (0.22.0)\n",
      "Requirement already satisfied: aiohttp>=3.7 in /opt/conda/lib/python3.8/site-packages (from ray[serve]==2.0.0->kserve) (3.8.3)\n",
      "Requirement already satisfied: python-rapidjson>=0.9.1 in /opt/conda/lib/python3.8/site-packages (from tritonclient==2.18.0->kserve) (1.9)\n",
      "Requirement already satisfied: h11>=0.8 in /opt/conda/lib/python3.8/site-packages (from uvicorn>=0.16.0->kserve) (0.14.0)\n",
      "Requirement already satisfied: asgiref>=3.4.0 in /opt/conda/lib/python3.8/site-packages (from uvicorn>=0.16.0->kserve) (3.6.0)\n",
      "Requirement already satisfied: PyJWT<3,>=1.0.0 in /opt/conda/lib/python3.8/site-packages (from adal>=1.2.7->kserve) (2.3.0)\n",
      "Requirement already satisfied: multidict<7.0,>=4.5 in /opt/conda/lib/python3.8/site-packages (from aiohttp>=3.7->ray[serve]==2.0.0->kserve) (6.0.4)\n",
      "Requirement already satisfied: async-timeout<5.0,>=4.0.0a3 in /opt/conda/lib/python3.8/site-packages (from aiohttp>=3.7->ray[serve]==2.0.0->kserve) (4.0.2)\n",
      "Requirement already satisfied: yarl<2.0,>=1.0 in /opt/conda/lib/python3.8/site-packages (from aiohttp>=3.7->ray[serve]==2.0.0->kserve) (1.8.2)\n",
      "Requirement already satisfied: charset-normalizer<3.0,>=2.0 in /opt/conda/lib/python3.8/site-packages (from aiohttp>=3.7->ray[serve]==2.0.0->kserve) (2.1.1)\n",
      "Requirement already satisfied: typing-extensions>=4.0.1 in /opt/conda/lib/python3.8/site-packages (from azure-core<2.0.0,>=1.10.0->azure-storage-blob==12.9.0->kserve) (4.4.0)\n",
      "Requirement already satisfied: msal<2.0.0,>=1.12.0 in /opt/conda/lib/python3.8/site-packages (from azure-identity>=1.8.0->kserve) (1.20.0)\n",
      "Requirement already satisfied: msal-extensions<2.0.0,>=0.3.0 in /opt/conda/lib/python3.8/site-packages (from azure-identity>=1.8.0->kserve) (1.0.0)\n",
      "Requirement already satisfied: botocore<1.30.0,>=1.29.54 in /opt/conda/lib/python3.8/site-packages (from boto3~=1.21->kserve) (1.29.54)\n",
      "Requirement already satisfied: jmespath<2.0.0,>=0.7.1 in /opt/conda/lib/python3.8/site-packages (from boto3~=1.21->kserve) (1.0.1)\n",
      "Requirement already satisfied: s3transfer<0.7.0,>=0.6.0 in /opt/conda/lib/python3.8/site-packages (from boto3~=1.21->kserve) (0.6.0)\n",
      "Requirement already satisfied: deprecation<3.0,>=2.0 in /opt/conda/lib/python3.8/site-packages (from cloudevents>=1.6.2->kserve) (2.1.0)\n",
      "Requirement already satisfied: cffi>=1.12 in /opt/conda/lib/python3.8/site-packages (from cryptography>=2.1.4->azure-storage-blob==12.9.0->kserve) (1.14.5)\n",
      "Requirement already satisfied: pycparser in /opt/conda/lib/python3.8/site-packages (from cffi>=1.12->cryptography>=2.1.4->azure-storage-blob==12.9.0->kserve) (2.20)\n",
      "Requirement already satisfied: packaging in /opt/conda/lib/python3.8/site-packages (from deprecation<3.0,>=2.0->cloudevents>=1.6.2->kserve) (20.9)\n",
      "Requirement already satisfied: anyio<5,>=3.4.0 in /opt/conda/lib/python3.8/site-packages (from starlette->ray[serve]==2.0.0->kserve) (3.6.2)\n",
      "Requirement already satisfied: idna>=2.8 in /opt/conda/lib/python3.8/site-packages (from anyio<5,>=3.4.0->starlette->ray[serve]==2.0.0->kserve) (2.10)\n",
      "Requirement already satisfied: sniffio>=1.1 in /opt/conda/lib/python3.8/site-packages (from anyio<5,>=3.4.0->starlette->ray[serve]==2.0.0->kserve) (1.2.0)\n",
      "Requirement already satisfied: google-api-core<3.0dev,>=1.29.0 in /opt/conda/lib/python3.8/site-packages (from google-cloud-storage>=1.20.0->kserve) (2.7.1)\n",
      "Requirement already satisfied: google-auth<3.0dev,>=1.25.0 in /opt/conda/lib/python3.8/site-packages (from google-cloud-storage>=1.20.0->kserve) (1.31.0)\n",
      "Requirement already satisfied: google-cloud-core<3.0dev,>=1.6.0 in /opt/conda/lib/python3.8/site-packages (from google-cloud-storage>=1.20.0->kserve) (2.2.3)\n",
      "Requirement already satisfied: google-resumable-media<3.0dev,>=1.3.0 in /opt/conda/lib/python3.8/site-packages (from google-cloud-storage>=1.20.0->kserve) (2.3.2)\n",
      "Requirement already satisfied: googleapis-common-protos<2.0dev,>=1.52.0 in /opt/conda/lib/python3.8/site-packages (from google-api-core<3.0dev,>=1.29.0->google-cloud-storage>=1.20.0->kserve) (1.55.0)\n",
      "Requirement already satisfied: cachetools<5.0,>=2.0.0 in /opt/conda/lib/python3.8/site-packages (from google-auth<3.0dev,>=1.25.0->google-cloud-storage>=1.20.0->kserve) (4.2.2)\n",
      "Requirement already satisfied: rsa<5,>=3.1.4 in /opt/conda/lib/python3.8/site-packages (from google-auth<3.0dev,>=1.25.0->google-cloud-storage>=1.20.0->kserve) (4.7.2)\n",
      "Requirement already satisfied: pyasn1-modules>=0.2.1 in /opt/conda/lib/python3.8/site-packages (from google-auth<3.0dev,>=1.25.0->google-cloud-storage>=1.20.0->kserve) (0.2.8)\n",
      "Requirement already satisfied: google-crc32c<2.0dev,>=1.0 in /opt/conda/lib/python3.8/site-packages (from google-resumable-media<3.0dev,>=1.3.0->google-cloud-storage>=1.20.0->kserve) (1.3.0)\n",
      "Requirement already satisfied: nvidia-ml-py<=11.495.46,>=11.450.129 in /opt/conda/lib/python3.8/site-packages (from gpustat>=1.0.0b1->ray[serve]==2.0.0->kserve) (11.495.46)\n",
      "Requirement already satisfied: blessed>=1.17.1 in /opt/conda/lib/python3.8/site-packages (from gpustat>=1.0.0b1->ray[serve]==2.0.0->kserve) (1.19.1)\n",
      "Requirement already satisfied: wcwidth>=0.1.4 in /opt/conda/lib/python3.8/site-packages (from blessed>=1.17.1->gpustat>=1.0.0b1->ray[serve]==2.0.0->kserve) (0.2.5)\n",
      "Requirement already satisfied: certifi in /opt/conda/lib/python3.8/site-packages (from httpx>=0.23.0->kserve) (2021.5.30)\n",
      "Requirement already satisfied: httpcore<0.17.0,>=0.15.0 in /opt/conda/lib/python3.8/site-packages (from httpx>=0.23.0->kserve) (0.16.3)\n",
      "Requirement already satisfied: rfc3986[idna2008]<2,>=1.3 in /opt/conda/lib/python3.8/site-packages (from httpx>=0.23.0->kserve) (1.5.0)\n",
      "Requirement already satisfied: requests-oauthlib in /opt/conda/lib/python3.8/site-packages (from kubernetes>=18.20.0->kserve) (1.3.0)\n",
      "Requirement already satisfied: websocket-client!=0.40.0,!=0.41.*,!=0.42.*,>=0.32.0 in /opt/conda/lib/python3.8/site-packages (from kubernetes>=18.20.0->kserve) (1.0.1)\n",
      "Requirement already satisfied: configparser in /opt/conda/lib/python3.8/site-packages (from minio<=7.1.3,>=4.0.9->kserve) (5.2.0)\n",
      "Requirement already satisfied: pytz in /opt/conda/lib/python3.8/site-packages (from minio<=7.1.3,>=4.0.9->kserve) (2021.1)\n",
      "Requirement already satisfied: portalocker<3,>=1.0 in /opt/conda/lib/python3.8/site-packages (from msal-extensions<2.0.0,>=0.3.0->azure-identity>=1.8.0->kserve) (2.7.0)\n",
      "Requirement already satisfied: isodate>=0.6.0 in /opt/conda/lib/python3.8/site-packages (from msrest>=0.6.21->azure-storage-blob==12.9.0->kserve) (0.6.1)\n",
      "Requirement already satisfied: pyasn1<0.5.0,>=0.4.6 in /opt/conda/lib/python3.8/site-packages (from pyasn1-modules>=0.2.1->google-auth<3.0dev,>=1.25.0->google-cloud-storage>=1.20.0->kserve) (0.4.8)\n",
      "Requirement already satisfied: chardet<5,>=3.0.2 in /opt/conda/lib/python3.8/site-packages (from requests->ray[serve]==2.0.0->kserve) (4.0.0)\n",
      "Requirement already satisfied: oauthlib>=3.0.0 in /opt/conda/lib/python3.8/site-packages (from requests-oauthlib->kubernetes>=18.20.0->kserve) (3.1.1)\n",
      "Requirement already satisfied: alog<0.10.0,>=0.9.13 in /opt/conda/lib/python3.8/site-packages (from timing-asgi>=0.3.0->kserve) (0.9.13)\n",
      "Requirement already satisfied: pyrsistent>=0.14.0 in /opt/conda/lib/python3.8/site-packages (from jsonschema->ray[serve]==2.0.0->kserve) (0.17.3)\n",
      "Requirement already satisfied: opencensus-context>=0.1.3 in /opt/conda/lib/python3.8/site-packages (from opencensus->ray[serve]==2.0.0->kserve) (0.1.3)\n",
      "Requirement already satisfied: pyparsing>=2.0.2 in /opt/conda/lib/python3.8/site-packages (from packaging->deprecation<3.0,>=2.0->cloudevents>=1.6.2->kserve) (2.4.7)\n",
      "Requirement already satisfied: distlib<1,>=0.3.6 in /opt/conda/lib/python3.8/site-packages (from virtualenv->ray[serve]==2.0.0->kserve) (0.3.6)\n",
      "Requirement already satisfied: platformdirs<3,>=2.4 in /opt/conda/lib/python3.8/site-packages (from virtualenv->ray[serve]==2.0.0->kserve) (2.6.2)\n",
      "Installing collected packages: argparse\n",
      "\u001b[31mERROR: pip's dependency resolver does not currently take into account all the packages that are installed. This behaviour is the source of the following dependency conflicts.\n",
      "kfserving 0.5.1 requires azure-storage-blob<=2.1.0,>=1.3.0, but you have azure-storage-blob 12.9.0 which is incompatible.\u001b[0m\n",
      "Successfully installed argparse-1.4.0\n"
     ]
    }
   ],
   "source": [
    "!pip install kserve"
   ]
  },
  {
   "cell_type": "code",
   "execution_count": 3,
   "metadata": {},
   "outputs": [],
   "source": [
    "## import depandancies\n",
    "from kubernetes import client , config\n",
    "from kserve import KServeClient\n",
    "from kserve import constants\n",
    "from kserve import utils\n",
    "from kserve import V1beta1InferenceService\n",
    "from kserve import V1beta1InferenceServiceSpec\n",
    "from kserve import V1beta1PredictorSpec\n",
    "from kserve import V1beta1SKLearnSpec\n",
    "from kserve import V1beta1XGBoostSpec"
   ]
  },
  {
   "cell_type": "code",
   "execution_count": 6,
   "metadata": {},
   "outputs": [],
   "source": [
    "# get kserve namespace\n",
    "namespace = utils.get_default_target_namespace()\n",
    "### Define the model name, due to technical limitations on service naming size, consider using just a trigram.\n",
    "name = 'monitor'\n",
    "### the path to model used to launch the service, this time it's from a shared bucket\n",
    "bucket='models'\n",
    "storage_uri=f\"s3://{bucket}/frompipeline/xgboost/chicago\""
   ]
  },
  {
   "cell_type": "code",
   "execution_count": 5,
   "metadata": {},
   "outputs": [
    {
     "name": "stdout",
     "output_type": "stream",
     "text": [
      "error: the path \"resources/sa.yaml\" does not exist\n"
     ]
    }
   ],
   "source": [
    "### bind minio credentials to allow kserve getting model\n",
    "!kubectl apply -f resources/sa.yaml"
   ]
  },
  {
   "cell_type": "code",
   "execution_count": 7,
   "metadata": {},
   "outputs": [],
   "source": [
    "### define inference service from model\n",
    "chicago_isvc = V1beta1InferenceService(\n",
    "    api_version=\"serving.kserve.io/v1beta1\",\n",
    "    kind=constants.KSERVE_KIND,\n",
    "    metadata=client.V1ObjectMeta(\n",
    "        name=name,\n",
    "        namespace=namespace\n",
    "    ),\n",
    "    spec=V1beta1InferenceServiceSpec(\n",
    "        predictor=V1beta1PredictorSpec(\n",
    "            xgboost=(\n",
    "                V1beta1XGBoostSpec(\n",
    "                    storage_uri=storage_uri,\n",
    "                    protocol_version=\"v2\"\n",
    "                )\n",
    "            ),\n",
    "            service_account_name='kserve-minio-sa',\n",
    "            image_pull_secrets=[{'name':'registry-secret'}]\n",
    "        )\n",
    "    )\n",
    "\n",
    ")"
   ]
  },
  {
   "cell_type": "code",
   "execution_count": 8,
   "metadata": {},
   "outputs": [],
   "source": [
    "### Create kserve client\n",
    "KServe = KServeClient()"
   ]
  },
  {
   "cell_type": "code",
   "execution_count": 9,
   "metadata": {},
   "outputs": [
    {
     "data": {
      "text/plain": [
       "{'apiVersion': 'serving.kserve.io/v1beta1',\n",
       " 'kind': 'InferenceService',\n",
       " 'metadata': {'creationTimestamp': '2023-01-24T10:14:41Z',\n",
       "  'generation': 1,\n",
       "  'managedFields': [{'apiVersion': 'serving.kserve.io/v1beta1',\n",
       "    'fieldsType': 'FieldsV1',\n",
       "    'fieldsV1': {'f:spec': {'.': {},\n",
       "      'f:predictor': {'.': {},\n",
       "       'f:imagePullSecrets': {},\n",
       "       'f:serviceAccountName': {},\n",
       "       'f:xgboost': {'.': {},\n",
       "        'f:name': {},\n",
       "        'f:protocolVersion': {},\n",
       "        'f:storageUri': {}}}}},\n",
       "    'manager': 'OpenAPI-Generator',\n",
       "    'operation': 'Update',\n",
       "    'time': '2023-01-24T10:14:38Z'}],\n",
       "  'name': 'monitor',\n",
       "  'namespace': 'kubeflow-user-guillaume-etevenard',\n",
       "  'resourceVersion': '7419995771',\n",
       "  'uid': 'f6bec75a-314a-4700-b202-3909ba5c3081'},\n",
       " 'spec': {'predictor': {'imagePullSecrets': [{'name': 'registry-secret'}],\n",
       "   'serviceAccountName': 'kserve-minio-sa',\n",
       "   'xgboost': {'name': 'kserve-container',\n",
       "    'protocolVersion': 'v2',\n",
       "    'resources': {'limits': {'cpu': '1', 'memory': '2Gi'},\n",
       "     'requests': {'cpu': '1', 'memory': '2Gi'}},\n",
       "    'runtimeVersion': '0.2.1',\n",
       "    'storageUri': 's3://models/frompipeline/xgboost/chicago'}}}}"
      ]
     },
     "execution_count": 9,
     "metadata": {},
     "output_type": "execute_result"
    }
   ],
   "source": [
    "### deploy inference service\n",
    "KServe.create(chicago_isvc)"
   ]
  },
  {
   "cell_type": "markdown",
   "metadata": {},
   "source": [
    "### wait until you see this : "
   ]
  },
  {
   "cell_type": "markdown",
   "metadata": {},
   "source": [
    "![launched](./images/launched.png)"
   ]
  },
  {
   "cell_type": "code",
   "execution_count": 15,
   "metadata": {},
   "outputs": [],
   "source": [
    "import requests\n",
    "\n",
    "### using Kserve api, get the url of the service\n",
    "isvc_resp = KServe.get(name, namespace=namespace)\n",
    "isvc_url = isvc_resp['status']['address']['url']"
   ]
  },
  {
   "cell_type": "code",
   "execution_count": 16,
   "metadata": {},
   "outputs": [
    {
     "data": {
      "text/plain": [
       "'http://monitor.kubeflow-user-guillaume-etevenard.svc.cluster.local/v2/models/monitor/infer'"
      ]
     },
     "execution_count": 16,
     "metadata": {},
     "output_type": "execute_result"
    }
   ],
   "source": [
    "### print the url\n",
    "isvc_url"
   ]
  },
  {
   "cell_type": "markdown",
   "metadata": {},
   "source": [
    "### Get test data"
   ]
  },
  {
   "cell_type": "code",
   "execution_count": 17,
   "metadata": {},
   "outputs": [
    {
     "name": "stdout",
     "output_type": "stream",
     "text": [
      "Requirement already satisfied: pandas in /opt/conda/lib/python3.8/site-packages (1.2.4)\n",
      "Requirement already satisfied: numpy>=1.16.5 in /opt/conda/lib/python3.8/site-packages (from pandas) (1.22.3)\n",
      "Requirement already satisfied: python-dateutil>=2.7.3 in /opt/conda/lib/python3.8/site-packages (from pandas) (2.8.1)\n",
      "Requirement already satisfied: pytz>=2017.3 in /opt/conda/lib/python3.8/site-packages (from pandas) (2021.1)\n",
      "Requirement already satisfied: six>=1.5 in /opt/conda/lib/python3.8/site-packages (from python-dateutil>=2.7.3->pandas) (1.16.0)\n"
     ]
    }
   ],
   "source": [
    "!pip install pandas"
   ]
  },
  {
   "cell_type": "code",
   "execution_count": 18,
   "metadata": {},
   "outputs": [],
   "source": [
    "### First create a local folder to handle data\n",
    "!mkdir chicagodata"
   ]
  },
  {
   "cell_type": "code",
   "execution_count": 19,
   "metadata": {},
   "outputs": [
    {
     "name": "stdout",
     "output_type": "stream",
     "text": [
      "  % Total    % Received % Xferd  Average Speed   Time    Time     Time  Current\n",
      "                                 Dload  Upload   Total   Spent    Left  Speed\n",
      "100 1087k    0 1087k    0     0  19331      0 --:--:--  0:00:57 --:--:--  241k\n"
     ]
    }
   ],
   "source": [
    "\n",
    "# Get the dataset Taxi Trips as CSV\n",
    "!curl --get 'https://data.cityofchicago.org/resource/wrvz-psew.csv' \\\n",
    "  --data-urlencode '$limit=10000' \\\n",
    "  --data-urlencode '$where=trip_start_timestamp >= \"2019-01-01\" AND trip_start_timestamp < \"2019-02-01\"' \\\n",
    "  --data-urlencode '$select=tips,trip_start_timestamp,trip_seconds,trip_miles,pickup_community_area,pickup_centroid_latitude,pickup_centroid_longitude,dropoff_community_area,fare,tolls,extras,trip_total' \\\n",
    "  | tr -d '\"' > \"./chicagodata/trip.csv\""
   ]
  },
  {
   "cell_type": "code",
   "execution_count": 20,
   "metadata": {},
   "outputs": [],
   "source": [
    "import pandas as pd"
   ]
  },
  {
   "cell_type": "code",
   "execution_count": 132,
   "metadata": {},
   "outputs": [],
   "source": [
    "data = pd.read_csv('chicagodata/trip.csv')"
   ]
  },
  {
   "cell_type": "markdown",
   "metadata": {},
   "source": [
    "### Create a function that loop on dataset and query service for each line"
   ]
  },
  {
   "cell_type": "code",
   "execution_count": 23,
   "metadata": {},
   "outputs": [],
   "source": [
    "import requests"
   ]
  },
  {
   "cell_type": "code",
   "execution_count": 81,
   "metadata": {},
   "outputs": [
    {
     "data": {
      "text/html": [
       "<div>\n",
       "<style scoped>\n",
       "    .dataframe tbody tr th:only-of-type {\n",
       "        vertical-align: middle;\n",
       "    }\n",
       "\n",
       "    .dataframe tbody tr th {\n",
       "        vertical-align: top;\n",
       "    }\n",
       "\n",
       "    .dataframe thead th {\n",
       "        text-align: right;\n",
       "    }\n",
       "</style>\n",
       "<table border=\"1\" class=\"dataframe\">\n",
       "  <thead>\n",
       "    <tr style=\"text-align: right;\">\n",
       "      <th></th>\n",
       "      <th>tips</th>\n",
       "      <th>trip_start_timestamp</th>\n",
       "      <th>trip_seconds</th>\n",
       "      <th>trip_miles</th>\n",
       "      <th>pickup_community_area</th>\n",
       "      <th>pickup_centroid_latitude</th>\n",
       "      <th>pickup_centroid_longitude</th>\n",
       "      <th>dropoff_community_area</th>\n",
       "      <th>fare</th>\n",
       "      <th>tolls</th>\n",
       "      <th>extras</th>\n",
       "      <th>trip_total</th>\n",
       "    </tr>\n",
       "  </thead>\n",
       "  <tbody>\n",
       "    <tr>\n",
       "      <th>0</th>\n",
       "      <td>0.0</td>\n",
       "      <td>2019-01-31T23:45:00.000</td>\n",
       "      <td>746.0</td>\n",
       "      <td>3.34</td>\n",
       "      <td>6.0</td>\n",
       "      <td>41.944227</td>\n",
       "      <td>-87.655998</td>\n",
       "      <td>16.0</td>\n",
       "      <td>11.75</td>\n",
       "      <td>0.0</td>\n",
       "      <td>0.0</td>\n",
       "      <td>11.75</td>\n",
       "    </tr>\n",
       "    <tr>\n",
       "      <th>1</th>\n",
       "      <td>0.0</td>\n",
       "      <td>2019-01-31T23:45:00.000</td>\n",
       "      <td>681.0</td>\n",
       "      <td>3.00</td>\n",
       "      <td>8.0</td>\n",
       "      <td>41.899602</td>\n",
       "      <td>-87.633308</td>\n",
       "      <td>24.0</td>\n",
       "      <td>11.25</td>\n",
       "      <td>0.0</td>\n",
       "      <td>0.0</td>\n",
       "      <td>11.25</td>\n",
       "    </tr>\n",
       "    <tr>\n",
       "      <th>2</th>\n",
       "      <td>11.0</td>\n",
       "      <td>2019-01-31T23:45:00.000</td>\n",
       "      <td>2280.0</td>\n",
       "      <td>15.20</td>\n",
       "      <td>56.0</td>\n",
       "      <td>41.792592</td>\n",
       "      <td>-87.769615</td>\n",
       "      <td>22.0</td>\n",
       "      <td>39.00</td>\n",
       "      <td>0.0</td>\n",
       "      <td>5.0</td>\n",
       "      <td>55.00</td>\n",
       "    </tr>\n",
       "    <tr>\n",
       "      <th>3</th>\n",
       "      <td>2.0</td>\n",
       "      <td>2019-01-31T23:45:00.000</td>\n",
       "      <td>360.0</td>\n",
       "      <td>1.20</td>\n",
       "      <td>8.0</td>\n",
       "      <td>41.899602</td>\n",
       "      <td>-87.633308</td>\n",
       "      <td>32.0</td>\n",
       "      <td>6.50</td>\n",
       "      <td>0.0</td>\n",
       "      <td>0.0</td>\n",
       "      <td>8.50</td>\n",
       "    </tr>\n",
       "    <tr>\n",
       "      <th>4</th>\n",
       "      <td>8.4</td>\n",
       "      <td>2019-01-31T23:45:00.000</td>\n",
       "      <td>1500.0</td>\n",
       "      <td>11.50</td>\n",
       "      <td>76.0</td>\n",
       "      <td>41.980264</td>\n",
       "      <td>-87.913625</td>\n",
       "      <td>4.0</td>\n",
       "      <td>29.75</td>\n",
       "      <td>0.0</td>\n",
       "      <td>4.0</td>\n",
       "      <td>42.15</td>\n",
       "    </tr>\n",
       "  </tbody>\n",
       "</table>\n",
       "</div>"
      ],
      "text/plain": [
       "   tips     trip_start_timestamp  trip_seconds  trip_miles  \\\n",
       "0   0.0  2019-01-31T23:45:00.000         746.0        3.34   \n",
       "1   0.0  2019-01-31T23:45:00.000         681.0        3.00   \n",
       "2  11.0  2019-01-31T23:45:00.000        2280.0       15.20   \n",
       "3   2.0  2019-01-31T23:45:00.000         360.0        1.20   \n",
       "4   8.4  2019-01-31T23:45:00.000        1500.0       11.50   \n",
       "\n",
       "   pickup_community_area  pickup_centroid_latitude  pickup_centroid_longitude  \\\n",
       "0                    6.0                 41.944227                 -87.655998   \n",
       "1                    8.0                 41.899602                 -87.633308   \n",
       "2                   56.0                 41.792592                 -87.769615   \n",
       "3                    8.0                 41.899602                 -87.633308   \n",
       "4                   76.0                 41.980264                 -87.913625   \n",
       "\n",
       "   dropoff_community_area   fare  tolls  extras  trip_total  \n",
       "0                    16.0  11.75    0.0     0.0       11.75  \n",
       "1                    24.0  11.25    0.0     0.0       11.25  \n",
       "2                    22.0  39.00    0.0     5.0       55.00  \n",
       "3                    32.0   6.50    0.0     0.0        8.50  \n",
       "4                     4.0  29.75    0.0     4.0       42.15  "
      ]
     },
     "execution_count": 81,
     "metadata": {},
     "output_type": "execute_result"
    }
   ],
   "source": [
    "data.head()"
   ]
  },
  {
   "cell_type": "code",
   "execution_count": 91,
   "metadata": {},
   "outputs": [],
   "source": [
    "def stresstestloop(data, maxline, isvc_url):\n",
    "    # drop target and timestamp columns\n",
    "    features = data....\n",
    "    for line in range(maxline):\n",
    "        ### get line as list\n",
    "        l = features...\n",
    "        ### embed into another list like ---> [[x1,x2,x3]]\n",
    "        list_embedding=...\n",
    "        ### fill spec template\n",
    "        inference_input = {\n",
    "            \"inputs\": [\n",
    "                {\n",
    "                    \"name\": \"input-0\",\n",
    "                    \"shape\": [1, 10],\n",
    "                    \"datatype\": \"FP32\",\n",
    "                    \"data\": list_embedding\n",
    "                }\n",
    "            ]\n",
    "        }\n",
    "        ### query the model\n",
    "        response = requests.post(isvc_url, json=inference_input)\n",
    "#         print(response.text) ## case of debug\n"
   ]
  },
  {
   "cell_type": "markdown",
   "metadata": {},
   "source": [
    "### Create a function that asks for batch prediction"
   ]
  },
  {
   "cell_type": "code",
   "execution_count": 126,
   "metadata": {},
   "outputs": [],
   "source": [
    "def batch_pred(data, isvc_url):\n",
    "    # drop target\n",
    "    features = data.drop(columns=[\"tips\",\"trip_start_timestamp\"]).dropna()\n",
    "    batch = features...\n",
    "    print(len(batch))\n",
    "    inference_input = {\n",
    "        \"inputs\": [\n",
    "            {\n",
    "                \"name\": \"input-0\",\n",
    "                \"shape\": [..., 10],\n",
    "                \"datatype\": \"FP32\",\n",
    "                \"data\": batch\n",
    "            }\n",
    "        ]\n",
    "    }\n",
    "        ### query the model\n",
    "    response = requests.post(isvc_url, json=inference_input)\n",
    "    return response"
   ]
  },
  {
   "cell_type": "markdown",
   "metadata": {},
   "source": [
    "### Take a look at the monitoring"
   ]
  },
  {
   "cell_type": "markdown",
   "metadata": {},
   "source": [
    "#### Through Kubeflow"
   ]
  },
  {
   "attachments": {},
   "cell_type": "markdown",
   "metadata": {},
   "source": [
    "![moniflow](./images/moniflow.png)"
   ]
  },
  {
   "cell_type": "markdown",
   "metadata": {},
   "source": [
    "#### Through metrics app"
   ]
  },
  {
   "cell_type": "markdown",
   "metadata": {},
   "source": [
    "go to https://metrics.aiengineer.polytech.sandbox-atos.com/"
   ]
  },
  {
   "cell_type": "markdown",
   "metadata": {},
   "source": [
    "click browse and choose a frame to look at"
   ]
  },
  {
   "cell_type": "markdown",
   "metadata": {},
   "source": [
    "![monigraf](./images/monigraf.png)"
   ]
  },
  {
   "cell_type": "markdown",
   "metadata": {},
   "source": [
    "#### Execute high rate inference"
   ]
  },
  {
   "cell_type": "code",
   "execution_count": 129,
   "metadata": {},
   "outputs": [],
   "source": [
    "stresstestloop(data,1000,isvc_url)"
   ]
  },
  {
   "cell_type": "markdown",
   "metadata": {},
   "source": [
    "#### we just did 1000++ query to the model, lets see if the service catches it"
   ]
  },
  {
   "cell_type": "markdown",
   "metadata": {},
   "source": [
    "![stress](./images/stress.png)\n",
    "\n",
    "![cpu](./images/cpu.png)\n",
    "\n"
   ]
  },
  {
   "cell_type": "markdown",
   "metadata": {},
   "source": [
    "### Execute batch prediction"
   ]
  },
  {
   "cell_type": "code",
   "execution_count": 127,
   "metadata": {},
   "outputs": [
    {
     "name": "stdout",
     "output_type": "stream",
     "text": [
      "8258\n"
     ]
    },
    {
     "data": {
      "text/plain": [
       "<Response [200]>"
      ]
     },
     "execution_count": 127,
     "metadata": {},
     "output_type": "execute_result"
    }
   ],
   "source": [
    "batch_pred(data,isvc_url)"
   ]
  },
  {
   "cell_type": "markdown",
   "metadata": {},
   "source": [
    "**We just launched 8000++ lines, lets see the response time**"
   ]
  },
  {
   "cell_type": "markdown",
   "metadata": {},
   "source": [
    "![resptime](./images/resptime.png)"
   ]
  },
  {
   "cell_type": "markdown",
   "metadata": {},
   "source": [
    "#### Provoque bad response with configuration bias "
   ]
  },
  {
   "cell_type": "code",
   "execution_count": 133,
   "metadata": {},
   "outputs": [],
   "source": [
    "def stresstestbiased(data, maxline, isvc_url):\n",
    "    # drop target and timestamp columns\n",
    "    features = data...\n",
    "    for line in range(maxline):\n",
    "        ### get line as list\n",
    "        l = features...\n",
    "        list_embedding =...\n",
    "        ### you can add bias with inputs metadata, like in putting wrong values for the shape\n",
    "        inference_input = {\n",
    "            \"inputs\": [\n",
    "                {\n",
    "                    \"name\": \"input-0\",\n",
    "                    \"shape\": [..., ...],\n",
    "                    \"datatype\": \"FP32\",\n",
    "                    \"data\": list_embedding\n",
    "                }\n",
    "            ]\n",
    "        }\n",
    "        ### query the model\n",
    "        response = requests.post(isvc_url, json=inference_input)"
   ]
  },
  {
   "cell_type": "code",
   "execution_count": 134,
   "metadata": {},
   "outputs": [],
   "source": [
    "stresstestbiased(data,200,isvc_url)"
   ]
  },
  {
   "cell_type": "markdown",
   "metadata": {},
   "source": [
    "**you should see 4xx class code appear in monitoring**"
   ]
  },
  {
   "cell_type": "markdown",
   "metadata": {},
   "source": [
    "![400](./images/400.png)"
   ]
  },
  {
   "cell_type": "code",
   "execution_count": null,
   "metadata": {},
   "outputs": [],
   "source": []
  }
 ],
 "metadata": {
  "kernelspec": {
   "display_name": "Python 3",
   "language": "python",
   "name": "python3"
  },
  "language_info": {
   "codemirror_mode": {
    "name": "ipython",
    "version": 3
   },
   "file_extension": ".py",
   "mimetype": "text/x-python",
   "name": "python",
   "nbconvert_exporter": "python",
   "pygments_lexer": "ipython3",
   "version": "3.9.13 (tags/v3.9.13:6de2ca5, May 17 2022, 16:36:42) [MSC v.1929 64 bit (AMD64)]"
  },
  "vscode": {
   "interpreter": {
    "hash": "1db6d0c0fb62fcd92812f526c45c77dc568410c92bb0ad7cc615a53ad33175c5"
   }
  }
 },
 "nbformat": 4,
 "nbformat_minor": 4
}
