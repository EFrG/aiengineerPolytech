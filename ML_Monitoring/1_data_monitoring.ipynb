{
 "cells": [
  {
   "cell_type": "markdown",
   "id": "3ea2bd4e-5922-43e2-921f-74ae61f1d483",
   "metadata": {},
   "source": [
    "# Data Monitoring"
   ]
  },
  {
   "cell_type": "markdown",
   "id": "64fad43e",
   "metadata": {},
   "source": [
    "**Here want want to look at how we can monitor data using feature drift and target drift**"
   ]
  },
  {
   "cell_type": "code",
   "execution_count": 1,
   "id": "f06eb72a-1759-4f7c-b85b-3cda4968c9dd",
   "metadata": {
    "collapsed": true,
    "jupyter": {
     "outputs_hidden": true
    },
    "tags": []
   },
   "outputs": [
    {
     "name": "stdout",
     "output_type": "stream",
     "text": [
      "Requirement already satisfied: evidently in /opt/conda/lib/python3.8/site-packages (0.2.1)\n",
      "Requirement already satisfied: alibi_detect in /opt/conda/lib/python3.8/site-packages (0.10.4)\n",
      "Requirement already satisfied: requests>=2.19.0 in /opt/conda/lib/python3.8/site-packages (from evidently) (2.25.1)\n",
      "Requirement already satisfied: scipy>=1.5.4 in /opt/conda/lib/python3.8/site-packages (from evidently) (1.7.0)\n",
      "Requirement already satisfied: pandas>=1.1.5 in /opt/conda/lib/python3.8/site-packages (from evidently) (1.2.4)\n",
      "Requirement already satisfied: dataclasses>=0.6 in /opt/conda/lib/python3.8/site-packages (from evidently) (0.6)\n",
      "Requirement already satisfied: numpy>=1.19.5 in /opt/conda/lib/python3.8/site-packages (from evidently) (1.22.3)\n",
      "Requirement already satisfied: PyYAML~=5.1 in /opt/conda/lib/python3.8/site-packages (from evidently) (5.4.1)\n",
      "Requirement already satisfied: statsmodels>=0.12.2 in /opt/conda/lib/python3.8/site-packages (from evidently) (0.13.5)\n",
      "Requirement already satisfied: scikit-learn>=0.24.0 in /opt/conda/lib/python3.8/site-packages (from evidently) (0.24.2)\n",
      "Requirement already satisfied: plotly>=5.5.0 in /opt/conda/lib/python3.8/site-packages (from evidently) (5.13.0)\n",
      "Requirement already satisfied: python-dateutil>=2.7.3 in /opt/conda/lib/python3.8/site-packages (from pandas>=1.1.5->evidently) (2.8.1)\n",
      "Requirement already satisfied: pytz>=2017.3 in /opt/conda/lib/python3.8/site-packages (from pandas>=1.1.5->evidently) (2021.1)\n",
      "Requirement already satisfied: tenacity>=6.2.0 in /opt/conda/lib/python3.8/site-packages (from plotly>=5.5.0->evidently) (8.1.0)\n",
      "Requirement already satisfied: six>=1.5 in /opt/conda/lib/python3.8/site-packages (from python-dateutil>=2.7.3->pandas>=1.1.5->evidently) (1.16.0)\n",
      "Requirement already satisfied: certifi>=2017.4.17 in /opt/conda/lib/python3.8/site-packages (from requests>=2.19.0->evidently) (2021.5.30)\n",
      "Requirement already satisfied: idna<3,>=2.5 in /opt/conda/lib/python3.8/site-packages (from requests>=2.19.0->evidently) (2.10)\n",
      "Requirement already satisfied: urllib3<1.27,>=1.21.1 in /opt/conda/lib/python3.8/site-packages (from requests>=2.19.0->evidently) (1.26.14)\n",
      "Requirement already satisfied: chardet<5,>=3.0.2 in /opt/conda/lib/python3.8/site-packages (from requests>=2.19.0->evidently) (4.0.0)\n",
      "Requirement already satisfied: joblib>=0.11 in /opt/conda/lib/python3.8/site-packages (from scikit-learn>=0.24.0->evidently) (1.1.0)\n",
      "Requirement already satisfied: threadpoolctl>=2.0.0 in /opt/conda/lib/python3.8/site-packages (from scikit-learn>=0.24.0->evidently) (3.1.0)\n",
      "Requirement already satisfied: packaging>=21.3 in /opt/conda/lib/python3.8/site-packages (from statsmodels>=0.12.2->evidently) (23.0)\n",
      "Requirement already satisfied: patsy>=0.5.2 in /opt/conda/lib/python3.8/site-packages (from statsmodels>=0.12.2->evidently) (0.5.3)\n",
      "Requirement already satisfied: opencv-python<5.0.0,>=3.2.0 in /opt/conda/lib/python3.8/site-packages (from alibi_detect) (4.7.0.68)\n",
      "Requirement already satisfied: pydantic<2.0.0,>=1.8.0 in /opt/conda/lib/python3.8/site-packages (from alibi_detect) (1.10.4)\n",
      "Requirement already satisfied: Pillow<10.0.0,>=5.4.1 in /opt/conda/lib/python3.8/site-packages (from alibi_detect) (9.0.1)\n",
      "Requirement already satisfied: matplotlib<4.0.0,>=3.0.0 in /opt/conda/lib/python3.8/site-packages (from alibi_detect) (3.4.2)\n",
      "Requirement already satisfied: scikit-image!=0.17.1,<0.20,>=0.14.2 in /opt/conda/lib/python3.8/site-packages (from alibi_detect) (0.18.1)\n",
      "Requirement already satisfied: toml<1.0.0,>=0.10.1 in /opt/conda/lib/python3.8/site-packages (from alibi_detect) (0.10.2)\n",
      "Requirement already satisfied: transformers<5.0.0,>=4.0.0 in /opt/conda/lib/python3.8/site-packages (from alibi_detect) (4.25.1)\n",
      "Requirement already satisfied: dill<0.4.0,>=0.3.0 in /opt/conda/lib/python3.8/site-packages (from alibi_detect) (0.3.4)\n",
      "Requirement already satisfied: catalogue<3.0.0,>=2.0.0 in /opt/conda/lib/python3.8/site-packages (from alibi_detect) (2.0.8)\n",
      "Requirement already satisfied: tqdm<5.0.0,>=4.28.1 in /opt/conda/lib/python3.8/site-packages (from alibi_detect) (4.61.0)\n",
      "Requirement already satisfied: typing-extensions>=3.7.4.3 in /opt/conda/lib/python3.8/site-packages (from alibi_detect) (4.4.0)\n",
      "Requirement already satisfied: numba!=0.54.0,<0.56.0,>=0.50.0 in /opt/conda/lib/python3.8/site-packages (from alibi_detect) (0.55.2)\n",
      "Requirement already satisfied: kiwisolver>=1.0.1 in /opt/conda/lib/python3.8/site-packages (from matplotlib<4.0.0,>=3.0.0->alibi_detect) (1.3.2)\n",
      "Requirement already satisfied: pyparsing>=2.2.1 in /opt/conda/lib/python3.8/site-packages (from matplotlib<4.0.0,>=3.0.0->alibi_detect) (2.4.7)\n",
      "Requirement already satisfied: cycler>=0.10 in /opt/conda/lib/python3.8/site-packages (from matplotlib<4.0.0,>=3.0.0->alibi_detect) (0.11.0)\n",
      "Requirement already satisfied: setuptools in /opt/conda/lib/python3.8/site-packages (from numba!=0.54.0,<0.56.0,>=0.50.0->alibi_detect) (66.1.1)\n",
      "Requirement already satisfied: llvmlite<0.39,>=0.38.0rc1 in /opt/conda/lib/python3.8/site-packages (from numba!=0.54.0,<0.56.0,>=0.50.0->alibi_detect) (0.38.1)\n",
      "Requirement already satisfied: networkx>=2.0 in /opt/conda/lib/python3.8/site-packages (from scikit-image!=0.17.1,<0.20,>=0.14.2->alibi_detect) (2.7.1)\n",
      "Requirement already satisfied: tifffile>=2019.7.26 in /opt/conda/lib/python3.8/site-packages (from scikit-image!=0.17.1,<0.20,>=0.14.2->alibi_detect) (2022.2.9)\n",
      "Requirement already satisfied: imageio>=2.3.0 in /opt/conda/lib/python3.8/site-packages (from scikit-image!=0.17.1,<0.20,>=0.14.2->alibi_detect) (2.16.1)\n",
      "Requirement already satisfied: PyWavelets>=1.1.1 in /opt/conda/lib/python3.8/site-packages (from scikit-image!=0.17.1,<0.20,>=0.14.2->alibi_detect) (1.2.0)\n",
      "Requirement already satisfied: regex!=2019.12.17 in /opt/conda/lib/python3.8/site-packages (from transformers<5.0.0,>=4.0.0->alibi_detect) (2022.10.31)\n",
      "Requirement already satisfied: huggingface-hub<1.0,>=0.10.0 in /opt/conda/lib/python3.8/site-packages (from transformers<5.0.0,>=4.0.0->alibi_detect) (0.11.1)\n",
      "Requirement already satisfied: filelock in /opt/conda/lib/python3.8/site-packages (from transformers<5.0.0,>=4.0.0->alibi_detect) (3.9.0)\n",
      "Requirement already satisfied: tokenizers!=0.11.3,<0.14,>=0.11.1 in /opt/conda/lib/python3.8/site-packages (from transformers<5.0.0,>=4.0.0->alibi_detect) (0.13.2)\n"
     ]
    }
   ],
   "source": [
    "!pip install evidently alibi_detect"
   ]
  },
  {
   "attachments": {},
   "cell_type": "markdown",
   "id": "a2b84dff",
   "metadata": {},
   "source": [
    "**First we will test \"evidently\", a nice dashboarding solution displaying data drift between current inference and a reference**"
   ]
  },
  {
   "cell_type": "code",
   "execution_count": 3,
   "id": "9d58ec82-442f-4a0a-af82-4b1c0cd15bbc",
   "metadata": {},
   "outputs": [],
   "source": [
    "import pandas as pd\n",
    "from evidently.dashboard import Dashboard\n",
    "from evidently.pipeline.column_mapping import ColumnMapping\n",
    "from evidently.dashboard.tabs import DataDriftTab, NumTargetDriftTab\n",
    "\n",
    "from evidently.model_profile import Profile\n",
    "from evidently.model_profile.sections import DataDriftProfileSection, NumTargetDriftProfileSection"
   ]
  },
  {
   "cell_type": "code",
   "execution_count": 4,
   "id": "858d6021-d860-41ba-9502-e0e8931fad5d",
   "metadata": {},
   "outputs": [],
   "source": [
    "### get the usual csv chicago data, drop the null values\n",
    "df = pd..."
   ]
  },
  {
   "cell_type": "code",
   "execution_count": 1,
   "id": "c5577c3c-edb7-4ada-8127-f0898530da76",
   "metadata": {},
   "outputs": [
    {
     "ename": "NameError",
     "evalue": "name 'df' is not defined",
     "output_type": "error",
     "traceback": [
      "\u001b[1;31m---------------------------------------------------------------------------\u001b[0m",
      "\u001b[1;31mNameError\u001b[0m                                 Traceback (most recent call last)",
      "\u001b[1;32mc:\\workspace\\courses\\aiengineerPolytech\\ML_Monitoring\\1_data_monitoring.ipynb Cell 7\u001b[0m in \u001b[0;36m<cell line: 1>\u001b[1;34m()\u001b[0m\n\u001b[1;32m----> <a href='vscode-notebook-cell:/c%3A/workspace/courses/aiengineerPolytech/ML_Monitoring/1_data_monitoring.ipynb#W4sZmlsZQ%3D%3D?line=0'>1</a>\u001b[0m df\u001b[39m.\u001b[39mhead()\n",
      "\u001b[1;31mNameError\u001b[0m: name 'df' is not defined"
     ]
    }
   ],
   "source": [
    "### verify you get what you want\n",
    "df.head()"
   ]
  },
  {
   "cell_type": "code",
   "execution_count": 7,
   "id": "273c68a9-8fd7-4c41-a807-9214c6c05c70",
   "metadata": {},
   "outputs": [],
   "source": [
    "### autoclean data to allow only copatible types in features\n",
    "numerics = ['int','float']\n",
    "df = df.select_dtypes(...)"
   ]
  },
  {
   "cell_type": "code",
   "execution_count": 8,
   "id": "c90a6363-677f-413f-a5c5-e94a112a72ba",
   "metadata": {},
   "outputs": [
    {
     "name": "stdout",
     "output_type": "stream",
     "text": [
      "<class 'pandas.core.frame.DataFrame'>\n",
      "Int64Index: 8258 entries, 0 to 9999\n",
      "Data columns (total 11 columns):\n",
      " #   Column                     Non-Null Count  Dtype  \n",
      "---  ------                     --------------  -----  \n",
      " 0   tips                       8258 non-null   float64\n",
      " 1   trip_seconds               8258 non-null   float64\n",
      " 2   trip_miles                 8258 non-null   float64\n",
      " 3   pickup_community_area      8258 non-null   float64\n",
      " 4   pickup_centroid_latitude   8258 non-null   float64\n",
      " 5   pickup_centroid_longitude  8258 non-null   float64\n",
      " 6   dropoff_community_area     8258 non-null   float64\n",
      " 7   fare                       8258 non-null   float64\n",
      " 8   tolls                      8258 non-null   float64\n",
      " 9   extras                     8258 non-null   float64\n",
      " 10  trip_total                 8258 non-null   float64\n",
      "dtypes: float64(11)\n",
      "memory usage: 774.2 KB\n"
     ]
    }
   ],
   "source": [
    "### verify you got only numeric data, and no null data\n",
    "df.info()"
   ]
  },
  {
   "cell_type": "code",
   "execution_count": 11,
   "id": "8e6b68a7-432c-461b-9ae1-450e2a0bb1c5",
   "metadata": {},
   "outputs": [],
   "source": [
    "### define the label (tips as usual)\n",
    "target = ...\n",
    "### define the features as all numerical columns except target in the data frame\n",
    "features = ..."
   ]
  },
  {
   "cell_type": "markdown",
   "id": "3c1de238-456a-4288-8081-c604464e9541",
   "metadata": {},
   "source": [
    "### Drifts detections with Evidently"
   ]
  },
  {
   "cell_type": "code",
   "execution_count": 13,
   "id": "0fd77943-ba7d-4de6-8b10-917fc5f2838b",
   "metadata": {},
   "outputs": [],
   "source": [
    "column_mapping = ColumnMapping()\n",
    "### assign target to column_mapping\n",
    "column_mapping.target = target\n",
    "### assign features to column_mapping\n",
    "column_mapping.numerical_features = features"
   ]
  },
  {
   "cell_type": "code",
   "execution_count": 14,
   "id": "5cce7ed6-8855-4c24-b2f2-16299e048b60",
   "metadata": {},
   "outputs": [],
   "source": [
    "### create ref sample data with 1000 of the 5000 first lines of the DF, randomly picked\n",
    "ref_data_sample = df...\n",
    "### create \"prod\" sample data with 50 of the 5000 last lines of the DF, randomly picked\n",
    "prod_data_sample = df..."
   ]
  },
  {
   "cell_type": "code",
   "execution_count": 20,
   "id": "e1147d9b-a0c6-484b-af77-08d2545c5c50",
   "metadata": {},
   "outputs": [],
   "source": [
    "### Create a dashboard bundle with feature drift and target drift\n",
    "ca_data_and_target_drift_dashboard = Dashboard(\n",
    "    tabs=[\n",
    "        DataDriftTab(verbose_level=0), \n",
    "    NumTargetDriftTab(verbose_level=0)\n",
    "    ]\n",
    ")\n"
   ]
  },
  {
   "cell_type": "code",
   "execution_count": 21,
   "id": "b21343a2-3bdf-4a85-9f47-72eeea39d8c1",
   "metadata": {},
   "outputs": [],
   "source": [
    "### Calculate the drifts\n",
    "ca_data_and_target_drift_dashboard.calculate(\n",
    "    ref_data_sample, \n",
    "    prod_data_sample, \n",
    "    column_mapping=column_mapping\n",
    ")\n"
   ]
  },
  {
   "cell_type": "code",
   "execution_count": 22,
   "id": "d039854d-d403-43dc-81c1-205c83d6d454",
   "metadata": {},
   "outputs": [],
   "source": [
    "### save dashboard as reusable html\n",
    "ca_data_and_target_drift_dashboard.save('./evi_dashboard.html')"
   ]
  },
  {
   "cell_type": "markdown",
   "id": "706e9c51-71ac-4307-a526-20bf0050a6fa",
   "metadata": {},
   "source": [
    "Launch the html file to see the results, on the top of the viewer, click on \"trust html\""
   ]
  },
  {
   "cell_type": "markdown",
   "id": "00e53e67-3460-4326-b4ed-0990ad7450dd",
   "metadata": {},
   "source": [
    "for each features, you can access the p-value, distribution plot, drift plot"
   ]
  },
  {
   "cell_type": "markdown",
   "id": "bbaa4065-7933-4143-baa7-e68e5c9fcc42",
   "metadata": {},
   "source": [
    "![evid](./images/evid.png)"
   ]
  },
  {
   "cell_type": "markdown",
   "id": "becd64c8-8c71-42ed-9358-f0527a715908",
   "metadata": {},
   "source": [
    "### Drift detection with Alibi detect"
   ]
  },
  {
   "cell_type": "code",
   "execution_count": 25,
   "id": "e1c1370c-4551-4148-9ebf-1c73d639cf4a",
   "metadata": {},
   "outputs": [],
   "source": [
    "from alibi_detect.cd import TabularDrift\n",
    "### implement another type of drift detector with \"Alibi\", that is used more in productions stacks, like embedded in inferenceService\n",
    "cd = TabularDrift(x_ref=ref_data_sample[features].values, p_val=0.05, categories_per_feature={0: None, 3: None})"
   ]
  },
  {
   "cell_type": "code",
   "execution_count": 26,
   "id": "55f9cdea-0ba3-4d9a-a892-2ae42dacab8a",
   "metadata": {},
   "outputs": [],
   "source": [
    "### get all features from df\n",
    "X = df[...]"
   ]
  },
  {
   "cell_type": "code",
   "execution_count": 27,
   "id": "6afc41f9-fb03-4318-a137-4d87fac9d944",
   "metadata": {},
   "outputs": [
    {
     "data": {
      "text/plain": [
       "((1000, 10), (50, 10), (25, 10))"
      ]
     },
     "execution_count": 27,
     "metadata": {},
     "output_type": "execute_result"
    }
   ],
   "source": [
    "### Here we define 3 data scope to determine some drift:\n",
    "\n",
    "# reference (taken from the first example)\n",
    "X_ref = ref_data_sample[features]\n",
    "\n",
    "# t0 data simulation (50 lines from 5000 last lines of the dataset)\n",
    "X_t0 = df...\n",
    "\n",
    "# t1 data simulation (25 lines from 5000 last lines of the dataset)\n",
    "X_t1 = df...\n",
    "\n",
    "\n",
    "X_ref.shape, X_t0.shape, X_t1.shape"
   ]
  },
  {
   "cell_type": "code",
   "execution_count": 28,
   "id": "2a1c00d6-3728-4d28-83f2-cfe58bac9a7d",
   "metadata": {},
   "outputs": [
    {
     "data": {
      "text/html": [
       "<div>\n",
       "<style scoped>\n",
       "    .dataframe tbody tr th:only-of-type {\n",
       "        vertical-align: middle;\n",
       "    }\n",
       "\n",
       "    .dataframe tbody tr th {\n",
       "        vertical-align: top;\n",
       "    }\n",
       "\n",
       "    .dataframe thead th {\n",
       "        text-align: right;\n",
       "    }\n",
       "</style>\n",
       "<table border=\"1\" class=\"dataframe\">\n",
       "  <thead>\n",
       "    <tr style=\"text-align: right;\">\n",
       "      <th></th>\n",
       "      <th>trip_seconds</th>\n",
       "      <th>trip_miles</th>\n",
       "      <th>pickup_community_area</th>\n",
       "      <th>pickup_centroid_latitude</th>\n",
       "      <th>pickup_centroid_longitude</th>\n",
       "      <th>dropoff_community_area</th>\n",
       "      <th>fare</th>\n",
       "      <th>tolls</th>\n",
       "      <th>extras</th>\n",
       "      <th>trip_total</th>\n",
       "    </tr>\n",
       "  </thead>\n",
       "  <tbody>\n",
       "    <tr>\n",
       "      <th>9460</th>\n",
       "      <td>3849.0</td>\n",
       "      <td>34.54</td>\n",
       "      <td>76.0</td>\n",
       "      <td>41.979071</td>\n",
       "      <td>-87.903040</td>\n",
       "      <td>76.0</td>\n",
       "      <td>84.50</td>\n",
       "      <td>0.0</td>\n",
       "      <td>31.0</td>\n",
       "      <td>115.50</td>\n",
       "    </tr>\n",
       "    <tr>\n",
       "      <th>7329</th>\n",
       "      <td>557.0</td>\n",
       "      <td>1.00</td>\n",
       "      <td>8.0</td>\n",
       "      <td>41.900266</td>\n",
       "      <td>-87.632109</td>\n",
       "      <td>8.0</td>\n",
       "      <td>6.75</td>\n",
       "      <td>0.0</td>\n",
       "      <td>0.0</td>\n",
       "      <td>6.75</td>\n",
       "    </tr>\n",
       "    <tr>\n",
       "      <th>8840</th>\n",
       "      <td>478.0</td>\n",
       "      <td>1.37</td>\n",
       "      <td>32.0</td>\n",
       "      <td>41.880994</td>\n",
       "      <td>-87.632746</td>\n",
       "      <td>28.0</td>\n",
       "      <td>7.00</td>\n",
       "      <td>0.0</td>\n",
       "      <td>0.0</td>\n",
       "      <td>7.00</td>\n",
       "    </tr>\n",
       "    <tr>\n",
       "      <th>9064</th>\n",
       "      <td>780.0</td>\n",
       "      <td>2.80</td>\n",
       "      <td>8.0</td>\n",
       "      <td>41.899156</td>\n",
       "      <td>-87.626211</td>\n",
       "      <td>28.0</td>\n",
       "      <td>10.50</td>\n",
       "      <td>0.0</td>\n",
       "      <td>0.0</td>\n",
       "      <td>14.00</td>\n",
       "    </tr>\n",
       "    <tr>\n",
       "      <th>7502</th>\n",
       "      <td>480.0</td>\n",
       "      <td>0.10</td>\n",
       "      <td>32.0</td>\n",
       "      <td>41.880994</td>\n",
       "      <td>-87.632746</td>\n",
       "      <td>8.0</td>\n",
       "      <td>8.00</td>\n",
       "      <td>0.0</td>\n",
       "      <td>0.0</td>\n",
       "      <td>10.00</td>\n",
       "    </tr>\n",
       "  </tbody>\n",
       "</table>\n",
       "</div>"
      ],
      "text/plain": [
       "      trip_seconds  trip_miles  pickup_community_area  \\\n",
       "9460        3849.0       34.54                   76.0   \n",
       "7329         557.0        1.00                    8.0   \n",
       "8840         478.0        1.37                   32.0   \n",
       "9064         780.0        2.80                    8.0   \n",
       "7502         480.0        0.10                   32.0   \n",
       "\n",
       "      pickup_centroid_latitude  pickup_centroid_longitude  \\\n",
       "9460                 41.979071                 -87.903040   \n",
       "7329                 41.900266                 -87.632109   \n",
       "8840                 41.880994                 -87.632746   \n",
       "9064                 41.899156                 -87.626211   \n",
       "7502                 41.880994                 -87.632746   \n",
       "\n",
       "      dropoff_community_area   fare  tolls  extras  trip_total  \n",
       "9460                    76.0  84.50    0.0    31.0      115.50  \n",
       "7329                     8.0   6.75    0.0     0.0        6.75  \n",
       "8840                    28.0   7.00    0.0     0.0        7.00  \n",
       "9064                    28.0  10.50    0.0     0.0       14.00  \n",
       "7502                     8.0   8.00    0.0     0.0       10.00  "
      ]
     },
     "execution_count": 28,
     "metadata": {},
     "output_type": "execute_result"
    }
   ],
   "source": [
    "X_t0.head()"
   ]
  },
  {
   "cell_type": "code",
   "execution_count": 32,
   "id": "a686442e-3fec-4602-bea1-a0559024f0d0",
   "metadata": {},
   "outputs": [],
   "source": [
    "### here we computes data related to the reference, to see the distances\n",
    "preds = cd.predict(x=X_t0.values, drift_type='batch', return_p_val=True, return_distance=True)"
   ]
  },
  {
   "cell_type": "code",
   "execution_count": 53,
   "id": "f3394911-8eb6-4ca8-be79-79d22043a929",
   "metadata": {},
   "outputs": [
    {
     "data": {
      "text/html": [
       "<div>\n",
       "<style scoped>\n",
       "    .dataframe tbody tr th:only-of-type {\n",
       "        vertical-align: middle;\n",
       "    }\n",
       "\n",
       "    .dataframe tbody tr th {\n",
       "        vertical-align: top;\n",
       "    }\n",
       "\n",
       "    .dataframe thead th {\n",
       "        text-align: right;\n",
       "    }\n",
       "</style>\n",
       "<table border=\"1\" class=\"dataframe\">\n",
       "  <thead>\n",
       "    <tr style=\"text-align: right;\">\n",
       "      <th></th>\n",
       "      <th>p_values</th>\n",
       "    </tr>\n",
       "  </thead>\n",
       "  <tbody>\n",
       "    <tr>\n",
       "      <th>trip_seconds</th>\n",
       "      <td>0.612817</td>\n",
       "    </tr>\n",
       "    <tr>\n",
       "      <th>trip_miles</th>\n",
       "      <td>0.006438</td>\n",
       "    </tr>\n",
       "    <tr>\n",
       "      <th>pickup_community_area</th>\n",
       "      <td>0.417747</td>\n",
       "    </tr>\n",
       "    <tr>\n",
       "      <th>pickup_centroid_latitude</th>\n",
       "      <td>0.000024</td>\n",
       "    </tr>\n",
       "    <tr>\n",
       "      <th>pickup_centroid_longitude</th>\n",
       "      <td>0.308534</td>\n",
       "    </tr>\n",
       "    <tr>\n",
       "      <th>dropoff_community_area</th>\n",
       "      <td>0.139406</td>\n",
       "    </tr>\n",
       "    <tr>\n",
       "      <th>fare</th>\n",
       "      <td>0.012317</td>\n",
       "    </tr>\n",
       "    <tr>\n",
       "      <th>tolls</th>\n",
       "      <td>1.000000</td>\n",
       "    </tr>\n",
       "    <tr>\n",
       "      <th>extras</th>\n",
       "      <td>0.087117</td>\n",
       "    </tr>\n",
       "    <tr>\n",
       "      <th>trip_total</th>\n",
       "      <td>0.035509</td>\n",
       "    </tr>\n",
       "  </tbody>\n",
       "</table>\n",
       "</div>"
      ],
      "text/plain": [
       "                           p_values\n",
       "trip_seconds               0.612817\n",
       "trip_miles                 0.006438\n",
       "pickup_community_area      0.417747\n",
       "pickup_centroid_latitude   0.000024\n",
       "pickup_centroid_longitude  0.308534\n",
       "dropoff_community_area     0.139406\n",
       "fare                       0.012317\n",
       "tolls                      1.000000\n",
       "extras                     0.087117\n",
       "trip_total                 0.035509"
      ]
     },
     "execution_count": 53,
     "metadata": {},
     "output_type": "execute_result"
    }
   ],
   "source": [
    "### let's see the pvalues for all features\n",
    "pd.DataFrame(preds['data']['p_val'],index=features,columns=['p_values']).head(10)"
   ]
  },
  {
   "cell_type": "code",
   "execution_count": 30,
   "id": "c40a374a-9820-4729-9bfe-010782b7285a",
   "metadata": {},
   "outputs": [
    {
     "name": "stdout",
     "output_type": "stream",
     "text": [
      "Drift? Yes!\n"
     ]
    }
   ],
   "source": [
    "### Ask the drift detector to give a global report about feature drift\n",
    "labels = ['No!', 'Yes!']\n",
    "print('Drift? {}'.format(labels[preds['data']['is_drift']]))"
   ]
  },
  {
   "cell_type": "code",
   "execution_count": 54,
   "id": "eec97124-a7dd-4c97-b3fc-134f85e79264",
   "metadata": {},
   "outputs": [
    {
     "data": {
      "text/plain": [
       "0.005"
      ]
     },
     "execution_count": 54,
     "metadata": {},
     "output_type": "execute_result"
    }
   ],
   "source": [
    "### Ask about the treshold that separate drift data from the rest\n",
    "preds['data']['threshold']"
   ]
  }
 ],
 "metadata": {
  "kernelspec": {
   "display_name": "Python 3",
   "language": "python",
   "name": "python3"
  },
  "language_info": {
   "codemirror_mode": {
    "name": "ipython",
    "version": 3
   },
   "file_extension": ".py",
   "mimetype": "text/x-python",
   "name": "python",
   "nbconvert_exporter": "python",
   "pygments_lexer": "ipython3",
   "version": "3.9.13"
  },
  "vscode": {
   "interpreter": {
    "hash": "1db6d0c0fb62fcd92812f526c45c77dc568410c92bb0ad7cc615a53ad33175c5"
   }
  }
 },
 "nbformat": 4,
 "nbformat_minor": 5
}
